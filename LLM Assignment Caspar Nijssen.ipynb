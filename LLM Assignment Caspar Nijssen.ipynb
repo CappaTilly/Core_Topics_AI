{
 "cells": [
  {
   "cell_type": "markdown",
   "metadata": {},
   "source": [
    "# Core Topics AI LLM assignment"
   ]
  },
  {
   "cell_type": "markdown",
   "metadata": {},
   "source": [
    "### Imports and loading the data"
   ]
  },
  {
   "cell_type": "code",
   "execution_count": null,
   "metadata": {},
   "outputs": [],
   "source": [
    "import pandas as pd\n",
    "import torch\n",
    "from torch.utils.data import Dataset, DataLoader\n",
    "from transformers import BertTokenizer, BertForSequenceClassification, AdamW\n",
    "from sklearn.model_selection import train_test_split\n",
    "from sklearn.metrics import accuracy_score, classification_report\n",
    "from tqdm import tqdm\n",
    "\n",
    "# Added import after presentation to improve generative performance of the model\n",
    "from transformers import pipeline\n",
    "\n",
    "\n",
    "# Check for GPU\n",
    "device = torch.device(\"cuda\" if torch.cuda.is_available() else \"cpu\")\n",
    "print(f\"Using device: {device}\")\n",
    "\n",
    "# Load the dataset\n",
    "csv_file_path = \"formatted_llm_data_cleaned_v2.csv\"  # Path to the CSV export\n",
    "data = pd.read_csv(csv_file_path)\n",
    "\n",
    "print(data[\"Role\"].unique())"
   ]
  },
  {
   "cell_type": "markdown",
   "metadata": {},
   "source": [
    "### Labeling"
   ]
  },
  {
   "cell_type": "code",
   "execution_count": null,
   "metadata": {},
   "outputs": [],
   "source": [
    "# Replace 'end_user' with 'End-User' and 'admin' with 'Sales Admin' in the \"Role\" column\n",
    "data[\"Role\"] = data[\"Role\"].replace({\n",
    "    \"end_user\": \"End-User\",\n",
    "    \"admin\": \"Sales Admin\"\n",
    "})\n",
    "\n",
    "# Check the unique values to verify\n",
    "print(data[\"Role\"].unique())\n",
    "\n",
    "\n",
    "# Label Mapping\n",
    "label_mapping = {\"End-User\": 0, \"Sales Admin\": 1}\n",
    "label_mapping_inv = {0: \"End-User\", 1: \"Sales Admin\"}\n",
    "# CHANGED TO BELOW\n",
    "# label_mapping = {\"End User\": 0, \"Admin\": 1}\n",
    "# label_mapping_inv = {0: \"End User\", 1: \"Admin\"}\n",
    "\n",
    "data[\"labels\"] = data[\"Role\"].map(label_mapping)\n",
    "\n",
    "#data[\"labels\"] = data[\"labels\"].astype(int)\n",
    "#print(data['Role'])"
   ]
  },
  {
   "cell_type": "markdown",
   "metadata": {},
   "source": [
    "### Split and tokenizer"
   ]
  },
  {
   "cell_type": "code",
   "execution_count": null,
   "metadata": {},
   "outputs": [],
   "source": [
    "# Split dataset into train and validation sets\n",
    "train_texts, val_texts, train_labels, val_labels = train_test_split(\n",
    "    data.apply(lambda row: f\"Question: {row['Question']} Answer: {row['Answer']}\", axis=1).tolist(),\n",
    "    data[\"labels\"].tolist(),\n",
    "    test_size=0.2,\n",
    "    random_state=42\n",
    ")\n",
    "\n",
    "# Initialize tokenizer\n",
    "tokenizer = BertTokenizer.from_pretrained(\"bert-base-uncased\")"
   ]
  },
  {
   "cell_type": "markdown",
   "metadata": {},
   "source": [
    "### PyTorch"
   ]
  },
  {
   "cell_type": "code",
   "execution_count": null,
   "metadata": {},
   "outputs": [],
   "source": [
    "# Define a Dataset class for PyTorch\n",
    "class SalesforceDataset(Dataset):\n",
    "    def __init__(self, texts, labels, tokenizer, max_length=128):\n",
    "        self.texts = texts\n",
    "        self.labels = labels\n",
    "        self.tokenizer = tokenizer\n",
    "        self.max_length = max_length\n",
    "\n",
    "    def __len__(self):\n",
    "        return len(self.texts)\n",
    "\n",
    "    def __getitem__(self, idx):\n",
    "        text = self.texts[idx]\n",
    "        label = self.labels[idx]\n",
    "\n",
    "        # Tokenize the input text\n",
    "        tokens = self.tokenizer(\n",
    "            text,\n",
    "            max_length=self.max_length,\n",
    "            padding=\"max_length\",\n",
    "            truncation=True,\n",
    "            return_tensors=\"pt\"\n",
    "        )\n",
    "\n",
    "        # Return tokenized data and label\n",
    "        return {\n",
    "            \"input_ids\": tokens[\"input_ids\"].squeeze(0),\n",
    "            \"attention_mask\": tokens[\"attention_mask\"].squeeze(0),\n",
    "            \"label\": torch.tensor(label, dtype=torch.long)\n",
    "        }\n"
   ]
  },
  {
   "cell_type": "markdown",
   "metadata": {},
   "source": [
    "#### Datasets, dataloaders and model"
   ]
  },
  {
   "cell_type": "code",
   "execution_count": null,
   "metadata": {},
   "outputs": [],
   "source": [
    "# Create Datasets and DataLoaders\n",
    "train_dataset = SalesforceDataset(train_texts, train_labels, tokenizer)\n",
    "val_dataset = SalesforceDataset(val_texts, val_labels, tokenizer)\n",
    "\n",
    "train_loader = DataLoader(train_dataset, batch_size=16, shuffle=True)\n",
    "val_loader = DataLoader(val_dataset, batch_size=16)\n",
    "\n",
    "# Load pre-trained BERT model for classification\n",
    "model = BertForSequenceClassification.from_pretrained(\"bert-base-uncased\", num_labels=len(label_mapping))\n",
    "model.to(device)\n",
    "\n",
    "# Define optimizer and loss function\n",
    "optimizer = AdamW(model.parameters(), lr=5e-5)\n",
    "criterion = torch.nn.CrossEntropyLoss()"
   ]
  },
  {
   "cell_type": "markdown",
   "metadata": {},
   "source": [
    "### Training"
   ]
  },
  {
   "cell_type": "code",
   "execution_count": null,
   "metadata": {},
   "outputs": [],
   "source": [
    "# Training function\n",
    "def train_epoch(model, loader, optimizer, criterion, device):\n",
    "    model.train()\n",
    "    epoch_loss = 0\n",
    "    predictions, targets = [], []\n",
    "\n",
    "    for batch in tqdm(loader, desc=\"Training\"):\n",
    "        optimizer.zero_grad()\n",
    "\n",
    "        # Move data to device\n",
    "        input_ids = batch[\"input_ids\"].to(device)\n",
    "        attention_mask = batch[\"attention_mask\"].to(device)\n",
    "        labels = batch[\"label\"].to(device)\n",
    "\n",
    "        # Forward pass\n",
    "        outputs = model(input_ids, attention_mask=attention_mask, labels=labels)\n",
    "        loss = outputs.loss\n",
    "        logits = outputs.logits\n",
    "\n",
    "        # Backward pass\n",
    "        loss.backward()\n",
    "        optimizer.step()\n",
    "\n",
    "        # Accumulate metrics\n",
    "        epoch_loss += loss.item()\n",
    "        predictions.extend(torch.argmax(logits, dim=1).cpu().numpy())\n",
    "        targets.extend(labels.cpu().numpy())\n",
    "\n",
    "    accuracy = accuracy_score(targets, predictions)\n",
    "    return epoch_loss / len(loader), accuracy\n"
   ]
  },
  {
   "cell_type": "markdown",
   "metadata": {},
   "source": [
    "### Final Training and Evaluation"
   ]
  },
  {
   "cell_type": "code",
   "execution_count": null,
   "metadata": {},
   "outputs": [],
   "source": [
    "# Evaluation function\n",
    "def evaluate(model, loader, criterion, device):\n",
    "    model.eval()\n",
    "    epoch_loss = 0\n",
    "    predictions, targets = [], []\n",
    "\n",
    "    with torch.no_grad():\n",
    "        for batch in tqdm(loader, desc=\"Evaluating\"):\n",
    "            # Move data to device\n",
    "            input_ids = batch[\"input_ids\"].to(device)\n",
    "            attention_mask = batch[\"attention_mask\"].to(device)\n",
    "            labels = batch[\"label\"].to(device)\n",
    "\n",
    "            # Forward pass\n",
    "            outputs = model(input_ids, attention_mask=attention_mask, labels=labels)\n",
    "            loss = outputs.loss\n",
    "            logits = outputs.logits\n",
    "\n",
    "            # Accumulate metrics\n",
    "            epoch_loss += loss.item()\n",
    "            predictions.extend(torch.argmax(logits, dim=1).cpu().numpy())\n",
    "            targets.extend(labels.cpu().numpy())\n",
    "\n",
    "    accuracy = accuracy_score(targets, predictions)\n",
    "    return epoch_loss / len(loader), accuracy, classification_report(targets, predictions, target_names=label_mapping.keys())\n",
    "\n",
    "# Training loop\n",
    "epochs = 15\n",
    "best_accuracy = 0\n",
    "\n",
    "for epoch in range(epochs):\n",
    "    print(f\"Epoch {epoch + 1}/{epochs}\")\n",
    "    train_loss, train_accuracy = train_epoch(model, train_loader, optimizer, criterion, device)\n",
    "    val_loss, val_accuracy, val_report = evaluate(model, val_loader, criterion, device)\n",
    "\n",
    "    print(f\"Train Loss: {train_loss:.4f}, Train Accuracy: {train_accuracy:.4f}\")\n",
    "    print(f\"Validation Loss: {val_loss:.4f}, Validation Accuracy: {val_accuracy:.4f}\")\n",
    "    print(\"\\nValidation Classification Report:\\n\", val_report)\n",
    "\n",
    "    # Save the best model\n",
    "    if val_accuracy > best_accuracy:\n",
    "        best_accuracy = val_accuracy\n",
    "        model.save_pretrained(\"best_model\")\n",
    "        tokenizer.save_pretrained(\"best_model\")\n",
    "        print(\"Best model saved.\")\n",
    "\n",
    "print(\"Training completed.\")"
   ]
  },
  {
   "cell_type": "markdown",
   "metadata": {},
   "source": [
    "### Best model and tokenizer"
   ]
  },
  {
   "cell_type": "code",
   "execution_count": null,
   "metadata": {},
   "outputs": [],
   "source": [
    "# Load the fine-tuned model and tokenizer\n",
    "model = BertForSequenceClassification.from_pretrained(\"best_model\")\n",
    "tokenizer = BertTokenizer.from_pretrained(\"best_model\")\n",
    "model.to(device)"
   ]
  },
  {
   "cell_type": "markdown",
   "metadata": {},
   "source": [
    "### Generating output answers"
   ]
  },
  {
   "cell_type": "code",
   "execution_count": null,
   "metadata": {},
   "outputs": [],
   "source": [
    "# Function to predict and retrieve answer from dataset\n",
    "def predict_question_and_answer(question: str, max_length=128):\n",
    "    # Tokenize the input question\n",
    "    inputs = tokenizer(\n",
    "        question,\n",
    "        max_length=max_length,\n",
    "        padding=\"max_length\",\n",
    "        truncation=True,\n",
    "        return_tensors=\"pt\"\n",
    "    )\n",
    "\n",
    "    # Move model and inputs to device\n",
    "    inputs = {key: value.to(device) for key, value in inputs.items()}\n",
    "\n",
    "    # Get model predictions\n",
    "    with torch.no_grad():\n",
    "        outputs = model(**inputs)\n",
    "        logits = outputs.logits\n",
    "\n",
    "    # Get the predicted label (class with the highest probability)\n",
    "    prediction = torch.argmax(logits, dim=1).item()\n",
    "    predicted_role = label_mapping_inv[prediction]  # Return label as string (e.g., \"End-User\")\n",
    "\n",
    "    # Find the corresponding answer in the dataset\n",
    "    relevant_answer = data[data[\"Role\"] == predicted_role].iloc[0][\"Answer\"]\n",
    "\n",
    "    return predicted_role, relevant_answer"
   ]
  },
  {
   "cell_type": "markdown",
   "metadata": {},
   "source": [
    "### Experimenting with prompt engineering"
   ]
  },
  {
   "cell_type": "markdown",
   "metadata": {},
   "source": [
    "### User Interaction"
   ]
  },
  {
   "cell_type": "code",
   "execution_count": null,
   "metadata": {},
   "outputs": [],
   "source": [
    "# Interactive loop to take user input and show predictions\n",
    "print(\"Welcome to the Salesforce Chatbot\")\n",
    "print(\"Type 'exit' to quit.\")\n",
    "\n",
    "while True:\n",
    "    # Get input question from the user\n",
    "    question = input(\"\\nEnter your question: \")\n",
    "\n",
    "    # Exit condition\n",
    "    if question.lower() == 'exit':\n",
    "        print(\"Exiting... Goodbye!\")\n",
    "        break\n",
    "    \n",
    "    # Get model's prediction (role and answer)\n",
    "    predicted_role, relevant_answer = predict_question_and_answer(question)\n",
    "    \n",
    "    # Conditional Role-Playing Prompting\n",
    "    if predicted_role == \"End-User\":\n",
    "        # Modify the answer for end-user role (e.g., friendly, simple)\n",
    "        chatbot_response = f\"As an end-user, here’s my response to your question: {relevant_answer}\"\n",
    "    elif predicted_role == \"Sales Admin\":\n",
    "        # Modify the answer for sales admin role (e.g., professional, business-focused)\n",
    "        chatbot_response = f\"As a sales admin, here’s a more detailed response to your question: {relevant_answer}\"\n",
    "    \n",
    "    # Display the result\n",
    "    print(f\"Question asked: {question}\")\n",
    "    print(f\"Model predicted role: {predicted_role}\")\n",
    "    print(f\"Chatbot response: {chatbot_response}\")\n"
   ]
  }
 ],
 "metadata": {
  "kernelspec": {
   "display_name": "Python 3",
   "language": "python",
   "name": "python3"
  },
  "language_info": {
   "codemirror_mode": {
    "name": "ipython",
    "version": 3
   },
   "file_extension": ".py",
   "mimetype": "text/x-python",
   "name": "python",
   "nbconvert_exporter": "python",
   "pygments_lexer": "ipython3",
   "version": "3.10.7"
  }
 },
 "nbformat": 4,
 "nbformat_minor": 2
}
